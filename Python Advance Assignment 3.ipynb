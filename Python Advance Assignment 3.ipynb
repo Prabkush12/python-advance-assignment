{
 "cells": [
  {
   "cell_type": "markdown",
   "id": "993fec5e",
   "metadata": {},
   "source": [
    "## Python Advance Assignment 3"
   ]
  },
  {
   "cell_type": "markdown",
   "id": "ad230d70",
   "metadata": {},
   "source": [
    "**1. What is the concept of an abstract superclass?**\n",
    "\n",
    "Ans:-A class is called an Abstract class if it contains one or more abstract methods. An abstract method is a method that is \n",
    "\n",
    "declared, but contains no implementation. Abstract classes may not be instantiated, and its abstract methods must be implemented by \n",
    "\n",
    "its subclasses.\n",
    "\n",
    "Abstract base classes provide a way to define interfaces when other techniques like hasattr() would be clumsy or subtly wrong (for \n",
    "\n",
    "example with magic methods). ABCs introduce virtual subclasses, which are classes that don’t inherit from a class but are still \n",
    "\n",
    "recognized by isinstance() and issubclass() functions."
   ]
  },
  {
   "cell_type": "code",
   "execution_count": 1,
   "id": "f0602e39",
   "metadata": {},
   "outputs": [
    {
     "name": "stdout",
     "output_type": "stream",
     "text": [
      "area:  200\n"
     ]
    }
   ],
   "source": [
    "import abc\n",
    "class Shape(metaclass=abc.ABCMeta):\n",
    "   @abc.abstractmethod\n",
    "   def area(self):\n",
    "      pass\n",
    "class Rectangle(Shape):\n",
    "   def __init__(self, x,y):\n",
    "      self.l = x\n",
    "      self.b=y\n",
    "   def area(self):\n",
    "      return self.l*self.b\n",
    "r = Rectangle(10,20)\n",
    "print ('area: ',r.area())"
   ]
  },
  {
   "cell_type": "markdown",
   "id": "ab2111dc",
   "metadata": {},
   "source": [
    "**2. What happens when a class statement's top level contains a basic assignment statement?**\n",
    "\n",
    "Ans:-"
   ]
  },
  {
   "cell_type": "code",
   "execution_count": 2,
   "id": "234ca352",
   "metadata": {},
   "outputs": [],
   "source": [
    "class human:\n",
    "    species = 'Homo erectus' # class attribute\n",
    "    def __init__(self,name,gender):\n",
    "        self.name = name # instance attributes\n",
    "        self.gender = gender"
   ]
  },
  {
   "cell_type": "markdown",
   "id": "3290045c",
   "metadata": {},
   "source": [
    "**3. Why does a class need to manually call a superclass's __init__ method?**\n",
    "\n",
    "Ans:-The main reason for always calling base class _init__ is that base class may typically create member variable and initialize \n",
    "\n",
    "them to defaults. So if you don't call base class init, none of that code would be executed and you would end up with base class \n",
    "\n",
    "that has no member variables."
   ]
  },
  {
   "cell_type": "code",
   "execution_count": 3,
   "id": "7c7600e7",
   "metadata": {},
   "outputs": [
    {
     "name": "stdout",
     "output_type": "stream",
     "text": [
      "Creating Derived1...\n",
      "derived1 init\n",
      "Creating Derived2...\n",
      "base init\n",
      "derived2 init\n"
     ]
    }
   ],
   "source": [
    "class Base:\n",
    "  def __init__(self):\n",
    "    print('base init')\n",
    "\n",
    "class Derived1(Base):\n",
    "  def __init__(self):\n",
    "    print('derived1 init')\n",
    "\n",
    "class Derived2(Base):\n",
    "  def __init__(self):\n",
    "    super(Derived2, self).__init__()\n",
    "    print('derived2 init')\n",
    "\n",
    "print('Creating Derived1...')\n",
    "d1 = Derived1()\n",
    "print('Creating Derived2...')\n",
    "d2 = Derived2()"
   ]
  },
  {
   "cell_type": "markdown",
   "id": "289ebbee",
   "metadata": {},
   "source": [
    "**4. How can you augment, instead of completely replacing, an inherited method?**\n",
    "\n",
    "Ans:-"
   ]
  },
  {
   "cell_type": "code",
   "execution_count": 7,
   "id": "ef0b7383",
   "metadata": {},
   "outputs": [
    {
     "name": "stdout",
     "output_type": "stream",
     "text": [
      "{'name': 'rohan', 'gender': 'Male', 'salary': 15000}\n"
     ]
    }
   ],
   "source": [
    "class subjects:\n",
    "    def __init__(self,name,gender):\n",
    "        self.name = name\n",
    "        self.gender = gender\n",
    "class worker(subjects):\n",
    "    def __init__(self,name,gender,salary):\n",
    "        super().__init__(name,gender) \n",
    "        self.salary = salary\n",
    "emp_1 = worker('rohan','Male',15000)\n",
    "print(emp_1.__dict__)       "
   ]
  },
  {
   "cell_type": "markdown",
   "id": "28f20b01",
   "metadata": {},
   "source": [
    "**5. How is the local scope of a class different from that of a function?**\n",
    "\n",
    "Ans:-A global variable is a variable that is accessible globally. A local variable is one that is only accessible to the current \n",
    "\n",
    "scope, such as temporary variables used in a single function definition."
   ]
  },
  {
   "cell_type": "code",
   "execution_count": 11,
   "id": "ef90d59e",
   "metadata": {},
   "outputs": [
    {
     "name": "stdout",
     "output_type": "stream",
     "text": [
      "you're name is prabhash\n",
      "Homo erectus\n",
      "Homo erectus\n"
     ]
    }
   ],
   "source": [
    "def hi(name):\n",
    "    name = name\n",
    "    print(f'you\\'re name is {name}')\n",
    "hello('prabhash')\n",
    "\n",
    "class Person:\n",
    "    species = \"Homo erectus\"\n",
    "    def __init__(self):\n",
    "        pass\n",
    "print(Person.species) # Accessing species using class name\n",
    "Male = Person()\n",
    "print(Male.species) # Accessing species using instance of class"
   ]
  },
  {
   "cell_type": "code",
   "execution_count": null,
   "id": "d6f0f2dd",
   "metadata": {},
   "outputs": [],
   "source": []
  }
 ],
 "metadata": {
  "kernelspec": {
   "display_name": "Python 3 (ipykernel)",
   "language": "python",
   "name": "python3"
  },
  "language_info": {
   "codemirror_mode": {
    "name": "ipython",
    "version": 3
   },
   "file_extension": ".py",
   "mimetype": "text/x-python",
   "name": "python",
   "nbconvert_exporter": "python",
   "pygments_lexer": "ipython3",
   "version": "3.9.7"
  }
 },
 "nbformat": 4,
 "nbformat_minor": 5
}
