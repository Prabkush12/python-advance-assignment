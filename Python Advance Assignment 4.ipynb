{
 "cells": [
  {
   "cell_type": "markdown",
   "id": "641331f1",
   "metadata": {},
   "source": [
    "## Python Advance Assignment 4"
   ]
  },
  {
   "cell_type": "markdown",
   "id": "bb77a316",
   "metadata": {},
   "source": [
    "**Q1. Which two operator overloading methods can you use in your classes to support iteration?**\n",
    "\n",
    "Ans:-The __iter__ returns the iterator object and is implicitly called at the start of loops. The __next__ method returns the next \n",
    "\n",
    "value and is implicitly called at each loop increment. __next__ raises a StopIteration exception when there are no more value to \n",
    "\n",
    "return, which is implicitly captured by looping constructs to stop iterating."
   ]
  },
  {
   "cell_type": "markdown",
   "id": "5d11df83",
   "metadata": {},
   "source": [
    "**Q2. In what contexts do the two operator overloading methods manage printing?**\n",
    "\n",
    "Ans:-The two operator overloading methods that manage printing are __str__ and __repr__.\n",
    "\n",
    "The object class is the base class for all classes, has a number of dunder (short for double underscore) methods. They are often \n",
    "\n",
    "called magic methods. These methods are never called directly. Instead, a corresponding built-in function internally calls one of \n",
    "\n",
    "these magic methods. For instance built-in str() function invokes __str__() method and repr() function invokes __repr__() method.\n"
   ]
  },
  {
   "cell_type": "code",
   "execution_count": 5,
   "id": "42d3c378",
   "metadata": {},
   "outputs": [
    {
     "name": "stdout",
     "output_type": "stream",
     "text": [
      "<__main__.myself object at 0x0000016E10813D00>\n"
     ]
    }
   ],
   "source": [
    "class myself:\n",
    "    def __init__(self):\n",
    "        self.name=\"prabhash\"\n",
    "        self.age=30\n",
    "\n",
    "obj = myself()\n",
    "print(obj)"
   ]
  },
  {
   "cell_type": "code",
   "execution_count": 3,
   "id": "d17b1348",
   "metadata": {},
   "outputs": [
    {
     "name": "stdout",
     "output_type": "stream",
     "text": [
      "name : prabhash age : 30\n",
      "name : prabhash age : 30\n"
     ]
    }
   ],
   "source": [
    "class myself:\n",
    "    def __init__(self):\n",
    "        self.name=\"prabhash\"\n",
    "        self.age=30\n",
    "    def __str__(self):\n",
    "        return \"name : {} age : {}\".format(self.name, self.age)\n",
    "\n",
    "obj=myself()\n",
    "print(obj)\n",
    "print(str(obj))"
   ]
  },
  {
   "cell_type": "markdown",
   "id": "8a979c9b",
   "metadata": {},
   "source": [
    "**Q3. In a class, how do you intercept slice operations?**\n",
    "\n",
    "Ans:-The __getitem__ method is used for accessing list items, array elements, dictionary entries etc. slice is a constructor in \n",
    "\n",
    "Python that creates slice object to represent set of indices that the range(start, stop, step) specifies. __getitem__ method can be \n",
    "\n",
    "implement in a class, and the behavior of slicing can be defined inside it."
   ]
  },
  {
   "cell_type": "markdown",
   "id": "9aa8d6aa",
   "metadata": {},
   "source": [
    "**Q4. In a class, how do you capture in-place addition?**\n",
    "\n",
    "Ans:-Python in its definition provides methods to perform inplace operations, i.e doing assignment and computation in a single \n",
    "\n",
    "statement using “operator” module. For example,\n",
    "\n",
    "x += y is equivalent to x = operator.iadd(x, y) "
   ]
  },
  {
   "cell_type": "code",
   "execution_count": 11,
   "id": "95659a7e",
   "metadata": {},
   "outputs": [
    {
     "name": "stdout",
     "output_type": "stream",
     "text": [
      "300\n"
     ]
    }
   ],
   "source": [
    "class library:\n",
    "    def __init__(self,books):\n",
    "        self.books = books\n",
    "    def __iadd__(self,other):\n",
    "        self.books += other.books\n",
    "        return self.books\n",
    "        \n",
    "b1 = library(100)\n",
    "b2 = library(200)\n",
    "b1+=b2\n",
    "print(b1)"
   ]
  },
  {
   "cell_type": "markdown",
   "id": "0ac5bfcb",
   "metadata": {},
   "source": [
    "**Q5. When is it appropriate to use operator overloading?**\n",
    "\n",
    "Ans:-Operator overloading is mostly useful when you're making a new class that falls into an existing \"Abstract Base Class\" (ABC) -- \n",
    "\n",
    "indeed, many of the ABCs in standard library module collections rely on the presence of certain special methods (and special \n",
    "\n",
    "methods, one with names starting and ending with double underscores "
   ]
  },
  {
   "cell_type": "code",
   "execution_count": 4,
   "id": "0e9e220d",
   "metadata": {},
   "outputs": [
    {
     "name": "stdout",
     "output_type": "stream",
     "text": [
      "Total Number of books -> 300\n"
     ]
    }
   ],
   "source": [
    "class library:\n",
    "    def __init__(self,books):\n",
    "        self.books = books\n",
    "    def __add__(self,other):\n",
    "        return self.books+other.books\n",
    "        \n",
    "b1 = library(100)\n",
    "b2 = library(200)\n",
    "\n",
    "print(f'Total Number of books -> {b1+b2}')"
   ]
  },
  {
   "cell_type": "code",
   "execution_count": null,
   "id": "f9c3ce72",
   "metadata": {},
   "outputs": [],
   "source": []
  }
 ],
 "metadata": {
  "kernelspec": {
   "display_name": "Python 3 (ipykernel)",
   "language": "python",
   "name": "python3"
  },
  "language_info": {
   "codemirror_mode": {
    "name": "ipython",
    "version": 3
   },
   "file_extension": ".py",
   "mimetype": "text/x-python",
   "name": "python",
   "nbconvert_exporter": "python",
   "pygments_lexer": "ipython3",
   "version": "3.9.7"
  }
 },
 "nbformat": 4,
 "nbformat_minor": 5
}
