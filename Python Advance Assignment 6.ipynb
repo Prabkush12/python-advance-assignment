{
 "cells": [
  {
   "cell_type": "markdown",
   "id": "647778b4",
   "metadata": {},
   "source": [
    "## Python Advance Assignment 6"
   ]
  },
  {
   "cell_type": "markdown",
   "id": "81b74e28",
   "metadata": {},
   "source": [
    "**Q1. Describe three applications for exception processing?**\n",
    "\n",
    "Ans:-Try,except and else are the three applications for exception processing."
   ]
  },
  {
   "cell_type": "markdown",
   "id": "742d3254",
   "metadata": {},
   "source": [
    "**Q2. What happens if you dont do something extra to treat an exception?**\n",
    "\n",
    "Ans:-Error handling increases the robustness of your code, which guards against potential failures that would cause your program to \n",
    "\n",
    "exit in an uncontrolled fashion.Exception handling makes your code more robust and helps prevent potential failures that would cause \n",
    "\n",
    "your program to stop in an uncontrolled manner. Imagine if you have written a code which is deployed in production and still, it \n",
    "\n",
    "terminates due to an exception, your client would not appreciate that, so it's better to handle the particular exception beforehand \n",
    "\n",
    "and avoid the chaos"
   ]
  },
  {
   "cell_type": "markdown",
   "id": "70598783",
   "metadata": {},
   "source": [
    "**Q3. What are your options for recovering from an exception in your script?**\n",
    "\n",
    "Ans:-A single try statement can have multiple except statements. ...\n",
    "\n",
    "You can also provide a generic except clause, which handles any exception.\n",
    "\n",
    "After the except clause(s), you can include an else-clause. ...\n",
    "\n",
    "The else-block is a good place for code that does not need the try: block's protection."
   ]
  },
  {
   "cell_type": "markdown",
   "id": "e24143e9",
   "metadata": {},
   "source": [
    "**Q4. Describe two methods for triggering exceptions in your script?**\n",
    "\n",
    "Ans:-Raise and Assert are two methods that can be used to trigger manual exceptions in your script.\n",
    "\n",
    "Raise method triggers an exception if condition provided to it turns out to be True.\n",
    "\n",
    "Assert will let the program to continue execution if condition provided to it turns out to be True else exception will be raised"
   ]
  },
  {
   "cell_type": "markdown",
   "id": "c6133712",
   "metadata": {},
   "source": [
    "**Q5. Identify two methods for specifying actions to be executed at termination time, regardless of \n",
    "whether or not an exception exists?**\n",
    "\n",
    "Ans:-The optional else clause contains codes to be executed if no exception occurs. The optional finally block contains codes to be \n",
    "\n",
    "executed irrespective of whether an exception occurs or not."
   ]
  }
 ],
 "metadata": {
  "kernelspec": {
   "display_name": "Python 3 (ipykernel)",
   "language": "python",
   "name": "python3"
  },
  "language_info": {
   "codemirror_mode": {
    "name": "ipython",
    "version": 3
   },
   "file_extension": ".py",
   "mimetype": "text/x-python",
   "name": "python",
   "nbconvert_exporter": "python",
   "pygments_lexer": "ipython3",
   "version": "3.9.7"
  }
 },
 "nbformat": 4,
 "nbformat_minor": 5
}
