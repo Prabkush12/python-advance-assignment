{
 "cells": [
  {
   "cell_type": "markdown",
   "id": "bc7ae3fd",
   "metadata": {},
   "source": [
    "## python advance Assignment 11"
   ]
  },
  {
   "cell_type": "markdown",
   "id": "9fc6d0b2",
   "metadata": {},
   "source": [
    "**Q1. What is the concept of a metaclass?**\n",
    "\n",
    "Ans:-A metaclass in Python is a class of a class that defines how a class behaves. A class is itself an instance of a  \n",
    "\n",
    "metaclass. A class in Python defines how the instance of the class will behave"
   ]
  },
  {
   "cell_type": "markdown",
   "id": "0c03a609",
   "metadata": {},
   "source": [
    "**Q2. What is the best way to declare a class's metaclass?**\n",
    "\n",
    "Ans:-In Python, we can customize the class creation process by passing the metaclass keyword in the class definition. This can \n",
    "\n",
    "also be done by inheriting a class that has already passed in this keyword."
   ]
  },
  {
   "cell_type": "code",
   "execution_count": 2,
   "id": "951ed425",
   "metadata": {},
   "outputs": [
    {
     "name": "stdout",
     "output_type": "stream",
     "text": [
      "<class 'type'>\n",
      "<class '__main__.MyMeta'>\n",
      "<class '__main__.MyMeta'>\n"
     ]
    }
   ],
   "source": [
    "class MyMeta(type):\n",
    "    pass\n",
    "\n",
    "class MyClass(metaclass=MyMeta):\n",
    "    pass\n",
    "\n",
    "class MySubclass(MyClass):\n",
    "    pass\n",
    "\n",
    "print(type(MyMeta))\n",
    "print(type(MyClass))\n",
    "print(type(MySubclass))"
   ]
  },
  {
   "cell_type": "markdown",
   "id": "97d03d7a",
   "metadata": {},
   "source": [
    "**Q3. How do class decorators overlap with metaclasses for handling classes?**\n",
    "\n",
    "Ans:-The things you can do with a class decorator, you can also do with a custom metaclasses (by just applying the \n",
    "\n",
    "functionality of the \"decorator function\", i.e., the one that takes a class object and modifies it, in the course of the \n",
    "\n",
    "metaclass's __new__ or __init__ that make the class object!).In this specific case—adding methods to a class when it's created\n",
    "\n",
    "—the choice between metaclasses and decorators is somewhat arbitrary. Decorators can be used to manage both instances and \n",
    "\n",
    "classes, and they intersect with metaclasses in the second of these roles."
   ]
  },
  {
   "cell_type": "markdown",
   "id": "9720d4c1",
   "metadata": {},
   "source": [
    "**Q4. How do class decorators overlap with metaclasses for handling instances?**\n",
    "\n",
    "Ans:-Just like with metaclasses, because the decorator returns the original class, instances are made from it, not from a \n",
    "\n",
    "wrapper object. In fact, instance creation is not intercepted at all. ... Decorators can be used to manage both instances and \n",
    "\n",
    "classes, and they intersect with metaclasses in the second of these roles"
   ]
  },
  {
   "cell_type": "code",
   "execution_count": null,
   "id": "72c24fff",
   "metadata": {},
   "outputs": [],
   "source": []
  }
 ],
 "metadata": {
  "kernelspec": {
   "display_name": "Python 3 (ipykernel)",
   "language": "python",
   "name": "python3"
  },
  "language_info": {
   "codemirror_mode": {
    "name": "ipython",
    "version": 3
   },
   "file_extension": ".py",
   "mimetype": "text/x-python",
   "name": "python",
   "nbconvert_exporter": "python",
   "pygments_lexer": "ipython3",
   "version": "3.9.7"
  }
 },
 "nbformat": 4,
 "nbformat_minor": 5
}
