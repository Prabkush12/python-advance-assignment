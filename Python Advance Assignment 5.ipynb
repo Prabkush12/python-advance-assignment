{
 "cells": [
  {
   "cell_type": "markdown",
   "id": "5e83e1bd",
   "metadata": {},
   "source": [
    "## Python Advance Assignment 5"
   ]
  },
  {
   "cell_type": "markdown",
   "id": "f83faa03",
   "metadata": {},
   "source": [
    "**Q1. What is the meaning of multiple inheritance?**\n",
    "\n",
    "Ans:-Multiple Inheritance : Multiple inheritance is a feature of object-oriented computer programming languages in \n",
    "\n",
    "which an object or class can inherit characteristics and features from more than one parent object or the parent class "
   ]
  },
  {
   "cell_type": "code",
   "execution_count": 1,
   "id": "64b86791",
   "metadata": {},
   "outputs": [],
   "source": [
    "class Parent1:\n",
    "    pass\n",
    "\n",
    "class Parent2:\n",
    "    pass\n",
    "\n",
    "class Parent3:\n",
    "    pass\n",
    "\n",
    "class Kid1(Parent1, Parent2, Parent3):\n",
    "    pass"
   ]
  },
  {
   "cell_type": "markdown",
   "id": "50cd05ac",
   "metadata": {},
   "source": [
    "**Q2. What is the concept of delegation?**\n",
    "\n",
    "Ans:-Delegation is an object oriented technique (also called a design pattern). Let's say you have an object x and want to \n",
    "\n",
    "change the behaviour of just one of its methods. You can create a new class that provides a new implementation of the \n",
    "\n",
    "method you're interested in changing and delegates all other methods to the corresponding method of x.\n",
    "\n",
    "Python programmers can easily implement delegation.It allows object composition to achieve the same code reuse as \n",
    "\n",
    "inheritance."
   ]
  },
  {
   "cell_type": "code",
   "execution_count": 9,
   "id": "024504eb",
   "metadata": {},
   "outputs": [
    {
     "name": "stdout",
     "output_type": "stream",
     "text": [
      "how r u doing\n",
      "how r u doing\n",
      "how r u doing\n",
      "I belong to the main class\n"
     ]
    }
   ],
   "source": [
    "class Myclass:\n",
    "    def sayHello(self):\n",
    "        print('how r u doing')\n",
    "    def whoAmI(self):\n",
    "        print('I belong to the main class')\n",
    "class NewClass:\n",
    "    def __init__(self,obj):\n",
    "        self.main = obj\n",
    "    def welcome(self):\n",
    "        self.main.sayHello()\n",
    "\n",
    "o = Myclass()        \n",
    "p = NewClass(m)\n",
    "o.sayHello()\n",
    "p.main.sayHello()\n",
    "p.welcome()\n",
    "p.main.whoAmI()"
   ]
  },
  {
   "cell_type": "markdown",
   "id": "df8e2afd",
   "metadata": {},
   "source": [
    "**Q3. What is the concept of composition?**\n",
    "\n",
    "Ans:-It is one of the fundamental concepts of Object-Oriented Programming. In this concept, we will describe a class that \n",
    "\n",
    "references to one or more objects of other classes as an Instance variable. Here, by using the class name or by creating \n",
    "\n",
    "the object we can access the members of one class inside another class. It enables creating complex types by combining \n",
    "\n",
    "objects of different classes. It means that a class Composite can contain an object of another class Component. This type \n",
    "\n",
    "of relationship is known as Has-A Relation."
   ]
  },
  {
   "cell_type": "code",
   "execution_count": 18,
   "id": "afce3cce",
   "metadata": {},
   "outputs": [
    {
     "name": "stdout",
     "output_type": "stream",
     "text": [
      "Total Salary : 9600\n"
     ]
    }
   ],
   "source": [
    "\n",
    "class Salary:\n",
    "    def __init__(self,get):\n",
    "        self.get = get\n",
    "    def receive_total(self):\n",
    "        return self.get*12\n",
    "    \n",
    "class Employee:\n",
    "    def __init__(self,get,bonus):\n",
    "        self.get = get\n",
    "        self.bonus = bonus\n",
    "        self.obj_salary = Salary(self.get)\n",
    "    def annual_salary(self):\n",
    "        return f'Total Salary : {str(self.obj_salary.receive_total())}'\n",
    "\n",
    "obj_emp = Employee(800,500)\n",
    "print(obj_emp.annual_salary())"
   ]
  },
  {
   "cell_type": "markdown",
   "id": "f01beab4",
   "metadata": {},
   "source": [
    "**Q4. What are bound methods and how do we use them?**\n",
    "\n",
    "Ans:-A bound method is the one which is dependent on the instance of the class as the first argument. It passes the \n",
    "\n",
    "instance as the first argument which is used to access the variables and functions. In Python 3 and newer versions of\n",
    "\n",
    "python, all functions in the class are by default bound methods"
   ]
  },
  {
   "cell_type": "code",
   "execution_count": 24,
   "id": "02506cc0",
   "metadata": {},
   "outputs": [
    {
     "name": "stdout",
     "output_type": "stream",
     "text": [
      "<bound method A.func of <__main__.A object at 0x0000028F076934C0>>\n"
     ]
    }
   ],
   "source": [
    "# demonstrattion\n",
    "# uses of bound methods\n",
    "  \n",
    "class A:\n",
    "  \n",
    "    def func(self, arg):\n",
    "        self.arg = arg\n",
    "        print(\"Value of arg = \", arg)\n",
    "  \n",
    "  \n",
    "# Creating an instance\n",
    "obj = A()  \n",
    "  \n",
    "# bound methods\n",
    "print(obj.func)"
   ]
  },
  {
   "cell_type": "markdown",
   "id": "e1f47a29",
   "metadata": {},
   "source": [
    "**Q5. What is the purpose of pseudoprivate attributes?**\n",
    "\n",
    "Ans:-This is sometimes misleadingly called private attributes really, it's just a way to localize a name to the class that \n",
    "\n",
    "created it, and does not prevent access by code outside the class. That is, this feature is mostly intended to avoid \n",
    "\n",
    "namespace collisions in instances, not to restrict access to names in general."
   ]
  },
  {
   "cell_type": "code",
   "execution_count": 22,
   "id": "01f10641",
   "metadata": {},
   "outputs": [],
   "source": [
    "class top:\n",
    "    def method(self): # A real application method\n",
    "        pass\n",
    "class Tools:\n",
    "    def _method(self): # becomes _Tools_method\n",
    "        pass\n",
    "    def others(self): # uses internal method\n",
    "        self._method()\n",
    "class Subl(Tools,top):\n",
    "    def actions(self):\n",
    "        self.method()\n",
    "class Sub2(Tools):\n",
    "    def __init__(self):\n",
    "        self.method = 99"
   ]
  },
  {
   "cell_type": "code",
   "execution_count": null,
   "id": "b2d0fc49",
   "metadata": {},
   "outputs": [],
   "source": []
  }
 ],
 "metadata": {
  "kernelspec": {
   "display_name": "Python 3 (ipykernel)",
   "language": "python",
   "name": "python3"
  },
  "language_info": {
   "codemirror_mode": {
    "name": "ipython",
    "version": 3
   },
   "file_extension": ".py",
   "mimetype": "text/x-python",
   "name": "python",
   "nbconvert_exporter": "python",
   "pygments_lexer": "ipython3",
   "version": "3.9.7"
  }
 },
 "nbformat": 4,
 "nbformat_minor": 5
}
