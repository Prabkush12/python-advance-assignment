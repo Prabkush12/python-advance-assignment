{
 "cells": [
  {
   "cell_type": "markdown",
   "id": "e913fbba",
   "metadata": {},
   "source": [
    "## Python Advance Assignment 8"
   ]
  },
  {
   "cell_type": "markdown",
   "id": "ca5f021e",
   "metadata": {},
   "source": [
    "**Q1. What are the two latest user-defined exception constraints in Python 3.X?**\n",
    "\n",
    "Ans:-User defined exceptions in python are created by programmers to enforce constraints on the values which the variables in \n",
    "\n",
    "the program can take. Python has many built in exceptions which are raised when there is some error in the program. A program \n",
    "\n",
    "automatically terminates after showing which inbuilt exception has occurred while executing the program when it reaches into \n",
    "\n",
    "an undesired state. We can stop the program from entering into an undesired state by enforcing constraints using user defined \n",
    "\n",
    "exceptions.User defined exceptions can be implemented by raising an exception explicitly, by using assert statement or raise \n",
    "\n",
    "by defining custom classes for user defined exceptions. "
   ]
  },
  {
   "cell_type": "markdown",
   "id": "0789b0fa",
   "metadata": {},
   "source": [
    "**Q2. How are class-based exceptions that have been raised matched to handlers?**\n",
    "\n",
    "Ans:- In python, Users can define custom exceptions by creating a new class. This exception class has to be derived, either \n",
    "\n",
    "directly or indirectly from built-in Exception class. This new exception class like other exceptions can be raised using the \n",
    "\n",
    "raise statement with an optional error message."
   ]
  },
  {
   "cell_type": "code",
   "execution_count": 9,
   "id": "16a4369e",
   "metadata": {},
   "outputs": [
    {
     "ename": "underage",
     "evalue": "not eligible to vote as under_aged",
     "output_type": "error",
     "traceback": [
      "\u001b[1;31m---------------------------------------------------------------------------\u001b[0m",
      "\u001b[1;31munderage\u001b[0m                                  Traceback (most recent call last)",
      "\u001b[1;32m~\\AppData\\Local\\Temp/ipykernel_9948/2626639164.py\u001b[0m in \u001b[0;36m<module>\u001b[1;34m\u001b[0m\n\u001b[0;32m      3\u001b[0m         \u001b[0mself\u001b[0m\u001b[1;33m.\u001b[0m\u001b[0mmsg\u001b[0m \u001b[1;33m=\u001b[0m \u001b[0mmsg\u001b[0m\u001b[1;33m\u001b[0m\u001b[1;33m\u001b[0m\u001b[0m\n\u001b[0;32m      4\u001b[0m \u001b[0mage\u001b[0m \u001b[1;33m=\u001b[0m \u001b[1;36m15\u001b[0m\u001b[1;33m\u001b[0m\u001b[1;33m\u001b[0m\u001b[0m\n\u001b[1;32m----> 5\u001b[1;33m \u001b[1;32mif\u001b[0m \u001b[0mage\u001b[0m \u001b[1;33m<=\u001b[0m \u001b[1;36m18\u001b[0m\u001b[1;33m:\u001b[0m \u001b[1;32mraise\u001b[0m \u001b[0munderage\u001b[0m\u001b[1;33m(\u001b[0m\u001b[1;34m'not eligible to vote as under_aged'\u001b[0m\u001b[1;33m)\u001b[0m\u001b[1;33m\u001b[0m\u001b[1;33m\u001b[0m\u001b[0m\n\u001b[0m",
      "\u001b[1;31munderage\u001b[0m: not eligible to vote as under_aged"
     ]
    }
   ],
   "source": [
    "class underage(Exception):\n",
    "    def __init__(self,msg):\n",
    "        self.msg = msg\n",
    "age = 15\n",
    "if age <= 18: raise underage('not eligible to vote as under_aged')"
   ]
  },
  {
   "cell_type": "markdown",
   "id": "7dbbdf9f",
   "metadata": {},
   "source": [
    "**Q3. Describe two methods for attaching context information to exception artefacts?**\n",
    "\n",
    "Ans:-Use the raise keyword to throw an exception with a custom error message. Use the syntax raise Exception(error_message) to  \n",
    "throw an Exception with the message error_message .The process() method of LoggerAdapter is where the contextual information \n",
    "\n",
    "is added to the logging output. its passes the message and keyword arguments of the logging call, and it passes back modified \n",
    "\n",
    "versions of these to use in the call to the underlying logger.Other method that can be used is exception(), Logs a messgae \n",
    "\n",
    "with level ERROR on this logger. The arguments are interpreted as for debug(). Exception info is added to the logging message."
   ]
  },
  {
   "cell_type": "markdown",
   "id": "6817b3d8",
   "metadata": {},
   "source": [
    "**Q4. Describe two methods for specifying the text of an exception object's error message.**\n",
    "\n",
    "Ans:-USE except Exception as TO CATCH AN EXCEPTION AND SAVE ITS ERROR MESSAGE\n",
    "\n",
    "Place the code where the exception may occur in a try block. Immediately after the try block, make an except block with except \n",
    "\n",
    "Exception as e to handle any exceptions that occur where e is the exception object, which can be printed.\n",
    "\n",
    "Raise and assert are two methods for specifying the text of an exception object's error message.raise statement is used to \n",
    "\n",
    "trigger explicit exception, if certain condition is not as per requirement of programmer. it helps in triggering exception as \n",
    "\n",
    "per need of programmer and logic.There are few assertions that programmer always want to be True to avoid code failure. This \n",
    "\n",
    "type of requirment is fullfilled by assert statement. This statement takes a Boolean Condition output of which if True, \n",
    "\n",
    "further program executes. if output of assert statement is False it raises an Assertion Error."
   ]
  },
  {
   "cell_type": "markdown",
   "id": "103e7df4",
   "metadata": {},
   "source": [
    "**Q5. Why do you no longer use string-based exceptions?**\n",
    "\n",
    "Ans:-String-based Exceptions doesn't inherit from Exceptions.So other or plain exceptions catch all exceptions and not only system."
   ]
  }
 ],
 "metadata": {
  "kernelspec": {
   "display_name": "Python 3 (ipykernel)",
   "language": "python",
   "name": "python3"
  },
  "language_info": {
   "codemirror_mode": {
    "name": "ipython",
    "version": 3
   },
   "file_extension": ".py",
   "mimetype": "text/x-python",
   "name": "python",
   "nbconvert_exporter": "python",
   "pygments_lexer": "ipython3",
   "version": "3.9.7"
  }
 },
 "nbformat": 4,
 "nbformat_minor": 5
}
