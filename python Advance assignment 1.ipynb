{
 "cells": [
  {
   "cell_type": "markdown",
   "id": "12ae10a3",
   "metadata": {},
   "source": [
    "## python Advance assignment 1"
   ]
  },
  {
   "cell_type": "markdown",
   "id": "82ef247a",
   "metadata": {},
   "source": [
    "**Q1. What is the purpose of Python's OOP?**\n",
    "\n",
    "Ans:-Python is a multi-paradigm programming language, meaning it supports OOP as well as other paradigms. You use classes to achieve \n",
    "\n",
    "OOP.Python provides all the standard features of object oriented programming.\n",
    "\n",
    "OOP programs prevent you from repeating code because a class can be defined once and reused many times. OOP therefore makes it easy \n",
    "\n",
    "to achieve the “Don’t Repeat Yourself” (DRY) principle.\n",
    "\n",
    "Benefits of OOP:-\n",
    "\n",
    "OOP language allows to break the program into the bit-sized problems that can be solved easily (one object at a time).\n",
    "\n",
    "The new technology promises greater programmer productivity, better quality of software and lesser maintenance cost.\n",
    "\n",
    "OOP systems can be easily upgraded from small to large systems.\n",
    "\n",
    "It is possible that multiple instances of objects co-exist without any interference,\n",
    "\n",
    "It is very easy to partition the work in a project based on objects.\n",
    "\n",
    "It is possible to map the objects in problem domain to those in the program.\n",
    "\n",
    "The principle of data hiding helps the programmer to build secure programs which cannot be invaded by the code in other parts of the \n",
    "\n",
    "program.\n",
    "\n",
    "By using inheritance, we can eliminate redundant code and extend the use of existing classes."
   ]
  },
  {
   "cell_type": "markdown",
   "id": "5a056a48",
   "metadata": {},
   "source": [
    "**Q2. Where does an inheritance search look for an attribute?**\n",
    "\n",
    "Ans:-In Python, inheritance happens when an object is qualified, and involves searching an attribute definition tree (one or more \n",
    "\n",
    "namespaces). Every time you use an expression of the form object.attr where object is an instance or class object, Python searches \n",
    "\n",
    "the namespace tree at and above object, for the first attr it can find. Because lower definitions in the tree override higher ones, \n",
    "\n",
    "inheritance forms the basis of specialization.\n",
    "\n",
    "Python searches for an attribute in an upward tree of attributes. it first searches for the attribute in its instance and then \n",
    "\n",
    "looks in the class it is generated from, to all super classes listed in its class header"
   ]
  },
  {
   "cell_type": "markdown",
   "id": "fb6776fb",
   "metadata": {},
   "source": [
    "**Q3. How do you distinguish between a class object and an instance object?**\n",
    "\n",
    "Ans:-The differences between a class object and an instance object are as following:\n",
    "\n",
    "Object is created many times as per requirement but class is decleared once.\n",
    "\n",
    "Class is a blueprint or template from which objects are created whereas Object is an instance of a class.\n",
    "\n",
    "Class is declared once but Object is created many times as per requirement.\n",
    "\n",
    "Seperate memory is allocated for each object whenever an object is created. but for a class this doesnot happens.\n",
    "\n",
    "As Classes have no allocated memory. they can't be manipulated. but objects can be manipulated."
   ]
  },
  {
   "cell_type": "markdown",
   "id": "f0abb094",
   "metadata": {},
   "source": [
    "**Q4. What makes the first argument in a class’s method function special?**\n",
    "\n",
    "Ans:-The first argument of every class method, including init, is always a reference to the current instance of the class. By \n",
    "\n",
    "convention, this argument is always named self. In the init method, self refers to the newly created object; in other class methods, \n",
    "\n",
    "it refers to the instance whose method was called."
   ]
  },
  {
   "cell_type": "markdown",
   "id": "efd55f0e",
   "metadata": {},
   "source": [
    "**Q5. What is the purpose of the __init__ method?**\n",
    "\n",
    "Ans:-The __init__ function is called every time an object is created from a class. The __init__ method lets the class initialize the \n",
    "\n",
    "object's attributes and serves no other purpose. It is only used within classes"
   ]
  },
  {
   "cell_type": "markdown",
   "id": "9eb859c4",
   "metadata": {},
   "source": [
    "**Q6. What is the process for creating a class instance?**\n",
    "\n",
    "Ans:-Use the class name to create a new instance\n",
    "\n",
    "Call ClassName() to create a new instance of the class ClassName . To pass parameters to the class instance, the class must have an \n",
    "\n",
    "__init__() method. Pass the parameters in the constructor of the class."
   ]
  },
  {
   "cell_type": "markdown",
   "id": "7f7fed6f",
   "metadata": {},
   "source": [
    "**Q7. What is the process for creating a class?**\n",
    "\n",
    "Ans:-Create a Class. To create a class, use the keyword class : ...\n",
    "\n",
    "Create Object. Now we can use the class named MyClass to create objects: ...\n",
    "\n",
    "The self Parameter. ...\n",
    "\n",
    "Modify or delete Object Properties. ...\n",
    "\n"
   ]
  },
  {
   "cell_type": "code",
   "execution_count": 5,
   "id": "7c57db9e",
   "metadata": {},
   "outputs": [
    {
     "name": "stdout",
     "output_type": "stream",
     "text": [
      "My name is tom\n",
      "My name is jerry\n"
     ]
    }
   ],
   "source": [
    "class cat:\n",
    "  \n",
    "    # class attribute\n",
    "    attr_1 = \"mammal\"\n",
    "  \n",
    "    # Instance attribute\n",
    "    def __init__(self, name):\n",
    "        self.name = name\n",
    "          \n",
    "    def speak(self):\n",
    "        print(\"My name is {}\".format(self.name))\n",
    "        # Driver code\n",
    "# Object instantiation\n",
    "tom = cat(\"tom\")\n",
    "jerry = cat(\"jerry\")\n",
    "  \n",
    "# Accessing class methods\n",
    "tom.speak()\n",
    "jerry.speak()"
   ]
  },
  {
   "cell_type": "markdown",
   "id": "7192fcfd",
   "metadata": {},
   "source": [
    "**Q8. How would you define the superclasses of a class?**\n",
    "\n",
    "Ans:-The class from which a class inherits is called the parent or superclass. A class which inherits from a superclass is called a \n",
    "\n",
    "subclass, also called heir class or child class. Superclasses are sometimes called ancestors as well"
   ]
  },
  {
   "cell_type": "code",
   "execution_count": null,
   "id": "2a561fdc",
   "metadata": {},
   "outputs": [],
   "source": []
  }
 ],
 "metadata": {
  "kernelspec": {
   "display_name": "Python 3 (ipykernel)",
   "language": "python",
   "name": "python3"
  },
  "language_info": {
   "codemirror_mode": {
    "name": "ipython",
    "version": 3
   },
   "file_extension": ".py",
   "mimetype": "text/x-python",
   "name": "python",
   "nbconvert_exporter": "python",
   "pygments_lexer": "ipython3",
   "version": "3.9.7"
  }
 },
 "nbformat": 4,
 "nbformat_minor": 5
}
