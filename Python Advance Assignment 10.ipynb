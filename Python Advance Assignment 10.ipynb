{
 "cells": [
  {
   "cell_type": "markdown",
   "id": "59469013",
   "metadata": {},
   "source": [
    "## Python Advance Assignment 10"
   ]
  },
  {
   "cell_type": "markdown",
   "id": "2a2d83f0",
   "metadata": {},
   "source": [
    "**Q1. What is the difference between __getattr__ and __getattribute__?**\n",
    "\n",
    "Ans:-These two methods are implemented as methods of a class. __getattribute__ is always called. Essentially this method is \n",
    "\n",
    "used to find an attribute of a class. If it fails, it will raise an AttributeError. In case it fails, and class implements \n",
    "\n",
    "__getattr__, then __getattr__ is called right after. Therefore, the biggest difference is that __getattr__ is called for \n",
    "\n",
    "attributes that don’t actually exist on a class.__getattr__ gets called if there is no attribute in the instance.\n",
    "\n",
    "It’s invoked “last”, if Python can’t find that attribute.(lowest priority)\n",
    "\n",
    "__getattribute__ gets called all the times, whether there is the attribute or not.\n",
    "\n",
    "It’s invoked “first”(highest priority) — it actually “intercepts” every lookup.\n",
    "\n",
    "So, even if there is the attribute in the instance, Python calls __getattribute__ first, with the attribute as an argument."
   ]
  },
  {
   "cell_type": "markdown",
   "id": "ce2dd5c0",
   "metadata": {},
   "source": [
    "**Q2. What is the difference between properties and descriptors?**\n",
    "\n",
    "Ans:-Properties. We can bind getter, setter (and deleter) functions with an attribute name, using the built-in property \n",
    "\n",
    "function. When we do this, each reference to an attribute looks like simple, direct access, but invokes the appropriate \n",
    "\n",
    "function of the object. For example, anObject.price= someValue; anObject.value.\n",
    "\n",
    "Descriptors. We can bind getter, setter (and deleter) functions into a separate class. We then assign an object of this class \n",
    "\n",
    "to the attribute name. When we do this, each reference to an attribute looks like simple, direct access, but invokes an \n",
    "\n",
    "appropriate function of the Descriptor object. For example, anObject.price= someValue; anObject.value."
   ]
  },
  {
   "cell_type": "markdown",
   "id": "485d8416",
   "metadata": {},
   "source": [
    "**Q3. What are the key differences in functionality between __getattr__ and __getattribute__, as well as \n",
    "properties and descriptors?**\n",
    "\n",
    "Ans:-A key difference between __getattr__ and __getattribute__ is that __getattr__ is only invoked if the attribute wasn't \n",
    "\n",
    "found the usual ways. It's good for implementing a fallback for missing attributes, and is probably the one of two you want"
   ]
  }
 ],
 "metadata": {
  "kernelspec": {
   "display_name": "Python 3 (ipykernel)",
   "language": "python",
   "name": "python3"
  },
  "language_info": {
   "codemirror_mode": {
    "name": "ipython",
    "version": 3
   },
   "file_extension": ".py",
   "mimetype": "text/x-python",
   "name": "python",
   "nbconvert_exporter": "python",
   "pygments_lexer": "ipython3",
   "version": "3.9.7"
  }
 },
 "nbformat": 4,
 "nbformat_minor": 5
}
