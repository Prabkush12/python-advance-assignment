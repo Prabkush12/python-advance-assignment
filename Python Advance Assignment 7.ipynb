{
 "cells": [
  {
   "cell_type": "markdown",
   "id": "900af3ec",
   "metadata": {},
   "source": [
    "## Python Advance Assignment 7"
   ]
  },
  {
   "cell_type": "markdown",
   "id": "540e05de",
   "metadata": {},
   "source": [
    "**Q1. What is the purpose of the try statement?**\n",
    "\n",
    "Ans:-Try defines a block of statements that may throw an exception. When a specific type of exception occurs, a catch block catches \n",
    "\n",
    "the exception. If an exception is not handled by try/catch blocks, the exception escalates through the call stack until the \n",
    "\n",
    "exception is caught or an error message is printed by the compiler."
   ]
  },
  {
   "cell_type": "markdown",
   "id": "b666272b",
   "metadata": {},
   "source": [
    "**Q2. What are the two most popular try statement variations?**\n",
    "\n",
    "Ans:-Exception handling with try, except, else and finally are the most popular try statement variations\n",
    "\n",
    "Try: This block will test the excepted error to occur\n",
    "\n",
    "Except:  Here you can handle the error\n",
    "\n",
    "Else: If there is no exception then this block will be executed\n",
    "\n",
    "Finally: Finally block always gets executed either exception is generated or not\n",
    "\n",
    "First try clause is executed i.e. the code between try and except clause.\n",
    "\n",
    "If there is no exception, then only try clause will run, except clause will not get executed.\n",
    "\n",
    "If any exception occurs, the try clause will be skipped and except clause will run.\n",
    "\n",
    "If any exception occurs, but the except clause within the code doesn’t handle it, it is passed on to the outer try statements. If \n",
    "\n",
    "the exception is left unhandled, then the execution stops.\n",
    "\n",
    "A try statement can have more than one except clause.\n",
    "\n",
    "The code enters the else block only if the try clause does not raise an exception.\n",
    "\n",
    "Python provides a keyword finally, which is always executed after try and except blocks. The finally block always executes after \n",
    "\n",
    "normal termination of try block or after try block terminates due to some exception."
   ]
  },
  {
   "cell_type": "markdown",
   "id": "f2f822d6",
   "metadata": {},
   "source": [
    "**Q3. What is the purpose of the raise statement?**\n",
    "\n",
    "Ans:-Python raise Keyword is used to raise exceptions or errors. The raise keyword raises an error and stops the control flow of the \n",
    "\n",
    "program. It is used to bring up the current exception in an exception handler so that it can be handled further up the call stack.\n",
    "\n",
    "Syntax of the raise keyword : raise  {name_of_ the_ exception_class}"
   ]
  },
  {
   "cell_type": "code",
   "execution_count": 2,
   "id": "02da37f6",
   "metadata": {},
   "outputs": [
    {
     "ename": "Exception",
     "evalue": "The number shouldn't be an odd integer",
     "output_type": "error",
     "traceback": [
      "\u001b[1;31m---------------------------------------------------------------------------\u001b[0m",
      "\u001b[1;31mException\u001b[0m                                 Traceback (most recent call last)",
      "\u001b[1;32m~\\AppData\\Local\\Temp/ipykernel_10708/1685071355.py\u001b[0m in \u001b[0;36m<module>\u001b[1;34m\u001b[0m\n\u001b[0;32m      2\u001b[0m \u001b[1;33m\u001b[0m\u001b[0m\n\u001b[0;32m      3\u001b[0m \u001b[1;32mif\u001b[0m \u001b[0ma\u001b[0m \u001b[1;33m%\u001b[0m \u001b[1;36m2\u001b[0m \u001b[1;33m!=\u001b[0m \u001b[1;36m0\u001b[0m\u001b[1;33m:\u001b[0m\u001b[1;33m\u001b[0m\u001b[1;33m\u001b[0m\u001b[0m\n\u001b[1;32m----> 4\u001b[1;33m     \u001b[1;32mraise\u001b[0m \u001b[0mException\u001b[0m\u001b[1;33m(\u001b[0m\u001b[1;34m\"The number shouldn't be an odd integer\"\u001b[0m\u001b[1;33m)\u001b[0m\u001b[1;33m\u001b[0m\u001b[1;33m\u001b[0m\u001b[0m\n\u001b[0m",
      "\u001b[1;31mException\u001b[0m: The number shouldn't be an odd integer"
     ]
    }
   ],
   "source": [
    "a = 11\n",
    "  \n",
    "if a % 2 != 0:\n",
    "    raise Exception(\"The number shouldn't be an odd integer\")"
   ]
  },
  {
   "cell_type": "markdown",
   "id": "02d65ab3",
   "metadata": {},
   "source": [
    "**Q4. What does the assert statement do, and what other statement is it like?**\n",
    "\n",
    "Ans:-Assert statement takes an expression and optional message. assert statement is used to check types, values of argument and the \n",
    "\n",
    "output of the function. assert statement is used as debugging tool as it halts the program at the point where an error occurs."
   ]
  },
  {
   "cell_type": "code",
   "execution_count": 4,
   "id": "c5035dfc",
   "metadata": {},
   "outputs": [
    {
     "name": "stdout",
     "output_type": "stream",
     "text": [
      "The value of a / b is : \n"
     ]
    },
    {
     "ename": "AssertionError",
     "evalue": "",
     "output_type": "error",
     "traceback": [
      "\u001b[1;31m---------------------------------------------------------------------------\u001b[0m",
      "\u001b[1;31mAssertionError\u001b[0m                            Traceback (most recent call last)",
      "\u001b[1;32m~\\AppData\\Local\\Temp/ipykernel_10708/3701357607.py\u001b[0m in \u001b[0;36m<module>\u001b[1;34m\u001b[0m\n\u001b[0;32m      7\u001b[0m \u001b[1;31m# using assert to check for 0\u001b[0m\u001b[1;33m\u001b[0m\u001b[1;33m\u001b[0m\u001b[0m\n\u001b[0;32m      8\u001b[0m \u001b[0mprint\u001b[0m\u001b[1;33m(\u001b[0m\u001b[1;34m\"The value of a / b is : \"\u001b[0m\u001b[1;33m)\u001b[0m\u001b[1;33m\u001b[0m\u001b[1;33m\u001b[0m\u001b[0m\n\u001b[1;32m----> 9\u001b[1;33m \u001b[1;32massert\u001b[0m \u001b[0mb\u001b[0m \u001b[1;33m!=\u001b[0m \u001b[1;36m0\u001b[0m\u001b[1;33m\u001b[0m\u001b[1;33m\u001b[0m\u001b[0m\n\u001b[0m\u001b[0;32m     10\u001b[0m \u001b[0mprint\u001b[0m\u001b[1;33m(\u001b[0m\u001b[0ma\u001b[0m \u001b[1;33m/\u001b[0m \u001b[0mb\u001b[0m\u001b[1;33m)\u001b[0m\u001b[1;33m\u001b[0m\u001b[1;33m\u001b[0m\u001b[0m\n",
      "\u001b[1;31mAssertionError\u001b[0m: "
     ]
    }
   ],
   "source": [
    "# working of assert\n",
    "  \n",
    "# initializing number\n",
    "a = 4\n",
    "b = 0\n",
    "  \n",
    "# using assert to check for 0\n",
    "print(\"The value of a / b is : \")\n",
    "assert b != 0\n",
    "print(a / b)"
   ]
  },
  {
   "cell_type": "markdown",
   "id": "0b7ccfee",
   "metadata": {},
   "source": [
    "**Q5. What is the purpose of the with/as argument, and what other statement is it like?**\n",
    "\n",
    "Ans:-With/as argument in Python is used in exception handling to make the code cleaner and much more readable. It simplifies the \n",
    "\n",
    "management of common resources like file streams.\n",
    "\n",
    "When we use a with statement for file reading, there is no need for programmer to explicitly takecare of activities like resource \n",
    "\n",
    "deallocation and file closing by using file.close() method. with statement itself ensures proper acquisition and release of \n",
    "\n",
    "resources. this avoids triggering of exceptions if file closing is unknowingly forgotten in the code execution.\n",
    "\n",
    "In the below example using the with statement makes the code compact and much more readable. Thus, with statement helps avoiding \n",
    "\n",
    "bugs and leaks by ensuring that a resource is properly released when the code using the resource is completely executed. The with \n",
    "\n",
    "statement is popularly used with file streams, as shown above and with Locks, sockets, subprocesses and telnets etc.\n"
   ]
  },
  {
   "cell_type": "code",
   "execution_count": 5,
   "id": "c27fe8a7",
   "metadata": {},
   "outputs": [],
   "source": [
    "# using with statement\n",
    "with open('file_path', 'w') as file:\n",
    "    file.write('hello ineuron !')"
   ]
  },
  {
   "cell_type": "code",
   "execution_count": null,
   "id": "70ec0bb8",
   "metadata": {},
   "outputs": [],
   "source": []
  }
 ],
 "metadata": {
  "kernelspec": {
   "display_name": "Python 3 (ipykernel)",
   "language": "python",
   "name": "python3"
  },
  "language_info": {
   "codemirror_mode": {
    "name": "ipython",
    "version": 3
   },
   "file_extension": ".py",
   "mimetype": "text/x-python",
   "name": "python",
   "nbconvert_exporter": "python",
   "pygments_lexer": "ipython3",
   "version": "3.9.7"
  }
 },
 "nbformat": 4,
 "nbformat_minor": 5
}
