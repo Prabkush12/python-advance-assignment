{
 "cells": [
  {
   "cell_type": "markdown",
   "id": "d2ce21b3",
   "metadata": {},
   "source": [
    "## python Advance assignment 2"
   ]
  },
  {
   "cell_type": "markdown",
   "id": "96d70035",
   "metadata": {},
   "source": [
    "**Q1. What is the relationship between classes and modules?**\n",
    "\n",
    "Ans:-The difference between a class and a module in python is that a class is used to define a blueprint for a given object, whereas \n",
    "\n",
    "a module is used to reuse a given piece of code inside another program.\n",
    "\n",
    "Modules are collections of methods and constants. They cannot generate instances. Classes may generate instances (objects), and have \n",
    "\n",
    "per-instance state (instance variables)."
   ]
  },
  {
   "cell_type": "markdown",
   "id": "2c793d58",
   "metadata": {},
   "source": [
    "**Q2. How do you make instances and classes?**\n",
    "\n",
    "Ans:-To create instances,Call ClassName() to create a new instance of the class ClassName . To pass parameters to the class \n",
    "\n",
    "instance, the class must have an __init__() method. Pass the parameters in the constructor of the class.\n",
    "\n",
    "We define classes by using the class keyword, similar to how we define functions by using the def keyword."
   ]
  },
  {
   "cell_type": "code",
   "execution_count": 2,
   "id": "1ae14a0a",
   "metadata": {},
   "outputs": [],
   "source": [
    "class Shark:\n",
    "    def __init__(self, name):\n",
    "        self.name = name\n",
    "    def swim(self):\n",
    "        print(self.name + \" is swimming.\")\n"
   ]
  },
  {
   "cell_type": "markdown",
   "id": "51de443e",
   "metadata": {},
   "source": [
    "**Q3. Where and how should be class attributes created?**\n",
    "\n",
    "Ans:-Inside a class, you should qualify all references to class attributes with the class name; for example, MyClass. attr1 . All \n",
    "\n",
    "references to instance attributes should be qualified with the self variable; for example, self."
   ]
  },
  {
   "cell_type": "code",
   "execution_count": 7,
   "id": "74fd419b",
   "metadata": {},
   "outputs": [],
   "source": [
    "class Shark:\n",
    "    def __init__(self, name,age,weight):\n",
    "        self.name = name# these are all attributes\n",
    "        self.age  = age\n",
    "        self.weight= weight\n",
    "        \n",
    "        \n"
   ]
  },
  {
   "cell_type": "markdown",
   "id": "7ffd1291",
   "metadata": {},
   "source": [
    "**Q4. Where and how are instance attributes created?**\n",
    "\n",
    "Ans:-An instance attribute is a Python variable belonging to one, and only one, object. This variable is only accessible in the \n",
    "\n",
    "scope of this object and it is defined inside the constructor function, __init__(self,..) of the class.\n"
   ]
  },
  {
   "cell_type": "markdown",
   "id": "50ada650",
   "metadata": {},
   "source": [
    "class car:\n",
    "    \n",
    "    def __init__(self,color,price,engine):\n",
    "        self.color = color # All this are instance attributes\n",
    "        self.price = price\n",
    "        self.engine = engine\n",
    "\n",
    "maruti = Car('purple blue', 1600000, 'diesel')\n",
    "\n",
    "fortuner = Car('coal black',3100000, 'petrol')\n",
    "\n",
    "maruti and fortuner are both the instances of class Car with different instance variables."
   ]
  },
  {
   "cell_type": "markdown",
   "id": "43d3b901",
   "metadata": {},
   "source": [
    "**Q5. What does the term \"self\" in a Python class mean?**\n",
    "\n",
    "Ans:- Self represents the instance of the class. By using the “self” keyword we can access the attributes and methods of the class \n",
    "\n",
    "in python. It binds the attributes with the given arguments."
   ]
  },
  {
   "cell_type": "markdown",
   "id": "c3b260c5",
   "metadata": {},
   "source": [
    "**Q6. How does a Python class handle operator overloading?**\n",
    "\n",
    "Ans:-The operator overloading in Python means provide extended meaning beyond their predefined operational meaning. Such as, we use \n",
    "\n",
    "the \"+\" operator for adding two integers as well as joining two strings or merging two lists. We can achieve this as the \"+\" \n",
    "\n",
    "operator is overloaded by the \"int\" class and \"str\" class. Python provides some special function or magic function that is \n",
    "\n",
    "automatically invoked when it is associated with that particular operator. For example, when we use + operator, the magic method \n",
    "\n",
    "__add__ is automatically invoked in which the operation for + operator is defined"
   ]
  },
  {
   "cell_type": "code",
   "execution_count": 12,
   "id": "e50c9141",
   "metadata": {},
   "outputs": [
    {
     "name": "stdout",
     "output_type": "stream",
     "text": [
      "sum =  (7+7j)\n"
     ]
    }
   ],
   "source": [
    "class Complex:\n",
    "    # defining init method for class\n",
    "    def __init__(self, r, i):\n",
    "        self.real = r\n",
    "        self.img = i\n",
    "\n",
    "    # overloading the add operator using special function\n",
    "    def __add__(self, sec):\n",
    "        r = self.real + sec.real\n",
    "        i = self.img + sec.img\n",
    "        return complex(r,i)\n",
    "\n",
    "    # string function to print object of Complex class\n",
    "    def __str__(self):\n",
    "        return str(self.real)+' + '+str(self.img)+'i'\n",
    "\n",
    "c1 = Complex(5,3)\n",
    "c2 = Complex(2,4)\n",
    "print(\"sum = \",c1+c2)"
   ]
  },
  {
   "cell_type": "markdown",
   "id": "05bc2e26",
   "metadata": {},
   "source": [
    "**Q7. When do you consider allowing operator overloading of your classes?**\n",
    "\n",
    "Ans:-Consider that we have two objects which are a physical representation of a class (user-defined data type) and we have to add \n",
    "\n",
    "two objects with binary '+' operator it throws an error, because compiler don't know how to add two objects. So we define a method \n",
    "\n",
    "for an operator and that process is called operator overloading"
   ]
  },
  {
   "cell_type": "markdown",
   "id": "e990e311",
   "metadata": {},
   "source": [
    "**Q8. What is the most popular form of operator overloading?**\n",
    "\n",
    "Ans:-A very popular and convenient example is the Addition (+) operator. Just think how the '+' operator operates on two numbers and \n",
    "\n",
    "the same operator operates on two strings. It performs “Addition” on numbers whereas it performs “Concatenation” on strings."
   ]
  },
  {
   "cell_type": "markdown",
   "id": "4b325c8d",
   "metadata": {},
   "source": [
    "**Q9. What are the two most important concepts to grasp in order to comprehend Python OOP code**\n",
    "\n",
    "In order to develop robust and well-designed software products with Python, it is essential to obtain a comprehensive understanding of OOP. Along with classes and objects the important concepts to grasp are:Inheritence,Abstraction,Polymorphism and Encapsulation."
   ]
  },
  {
   "cell_type": "code",
   "execution_count": null,
   "id": "1e0d773e",
   "metadata": {},
   "outputs": [],
   "source": []
  }
 ],
 "metadata": {
  "kernelspec": {
   "display_name": "Python 3 (ipykernel)",
   "language": "python",
   "name": "python3"
  },
  "language_info": {
   "codemirror_mode": {
    "name": "ipython",
    "version": 3
   },
   "file_extension": ".py",
   "mimetype": "text/x-python",
   "name": "python",
   "nbconvert_exporter": "python",
   "pygments_lexer": "ipython3",
   "version": "3.9.7"
  }
 },
 "nbformat": 4,
 "nbformat_minor": 5
}
